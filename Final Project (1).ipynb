{
 "cells": [
  {
   "cell_type": "code",
   "execution_count": 1,
   "id": "1f548e6e",
   "metadata": {
    "scrolled": true
   },
   "outputs": [
    {
     "name": "stderr",
     "output_type": "stream",
     "text": [
      "C:\\Users\\15512\\anaconda3\\lib\\site-packages\\IPython\\core\\interactiveshell.py:3165: DtypeWarning: Columns (7,10,1394,1395,1396,1397,1398,1399,1400,1401,1402,1403,1404,1405,1406,1407,1538,1541,1543,1590,1591,1592,1593,1594,1595,1596,1597,1598,1599,1600,1601,1602,1603,1607,1615,1616,1726,1727,1728,1729,1730,1744,1816,1817,1818,1819,1824,1825,1831,1832,1880,1881,1882,1883,1884,1885,1886,1887,1888,1889,1890,1891,1892,1893,1894,1895,1896,1897,1898,1899,1910,1911,1912,1913,1914,1958,1959,1960,1961,1962,1963,1964,1965,1966,1967,1968,1969,1970,1971,1972,1973,1974,1975,1976,1977,1984,1985) have mixed types.Specify dtype option on import or set low_memory=False.\n",
      "  has_raised = await self.run_ast_nodes(code_ast.body, cell_name,\n"
     ]
    },
    {
     "name": "stdout",
     "output_type": "stream",
     "text": [
      "<class 'pandas.core.frame.DataFrame'>\n",
      "RangeIndex: 21156 entries, 0 to 21155\n",
      "Columns: 1988 entries, Unnamed: 0 to YEAR\n",
      "dtypes: float64(746), int64(14), object(1228)\n",
      "memory usage: 320.9+ MB\n"
     ]
    }
   ],
   "source": [
    "import pandas as pd\n",
    "import numpy as np\n",
    "boe_dataset=pd.read_csv(\"Directory\")\n",
    "boe_dataset.info()"
   ]
  },
  {
   "cell_type": "code",
   "execution_count": 2,
   "id": "ab97e30b",
   "metadata": {},
   "outputs": [
    {
     "name": "stdout",
     "output_type": "stream",
     "text": [
      "      index  SAT_AVG_ALL  SATVRMID  SATMTMID  SATWRMID\n",
      "1888   1888          NaN       NaN       NaN       NaN\n",
      "1889   1889          NaN       NaN       NaN       NaN\n",
      "1890   1890          NaN       NaN       NaN       NaN\n",
      "1891   1891          NaN       NaN       NaN       NaN\n",
      "1892   1892          NaN       NaN       NaN       NaN\n",
      "...     ...          ...       ...       ...       ...\n",
      "9516   9516          NaN       NaN       NaN       NaN\n",
      "9517   9517          NaN       NaN       NaN       NaN\n",
      "9518   9518          NaN       NaN       NaN       NaN\n",
      "9519   9519       1459.0     730.0     740.0       NaN\n",
      "9520   9520       1492.0     730.0     755.0       NaN\n",
      "\n",
      "[1282 rows x 5 columns]\n",
      "       index  SAT_AVG_ALL  SATVRMID  SATMTMID  SATWRMID\n",
      "178      178          NaN       NaN       NaN       NaN\n",
      "179      179          NaN       NaN       NaN       NaN\n",
      "180      180          NaN       NaN       NaN       NaN\n",
      "181      181          NaN       NaN       NaN       NaN\n",
      "182      182       1128.0     585.0     575.0       NaN\n",
      "...      ...          ...       ...       ...       ...\n",
      "11287  11287          NaN       NaN       NaN       NaN\n",
      "11288  11288          NaN       NaN       NaN       NaN\n",
      "11289  11289          NaN       NaN       NaN       NaN\n",
      "11290  11290       1029.0     505.0     505.0       NaN\n",
      "11291  11291       1028.0     505.0     500.0       NaN\n",
      "\n",
      "[1412 rows x 5 columns]\n"
     ]
    }
   ],
   "source": [
    "grouped_lists=boe_dataset[[\"SAT_AVG_ALL\", \"SATVRMID\", \"SATMTMID\", \"SATWRMID\"]]\n",
    "grouped_lists=grouped_lists.reset_index()\n",
    "DE=grouped_lists[1888:1915]\n",
    "DC=grouped_lists[1915:1951]\n",
    "MD=grouped_lists[4308:4484]\n",
    "NJ=grouped_lists[6165:6413]\n",
    "NY=grouped_lists[13528:13570]\n",
    "PA=grouped_lists[8762:8950]\n",
    "PA2=grouped_lists[8953:8971]\n",
    "PA3=grouped_lists[8974:9521]\n",
    "PA=PA.append(PA2)\n",
    "PA=PA.append(PA3)\n",
    "DE=DE.append(DC)\n",
    "DE=DE.append(MD)\n",
    "DE=DE.append(NJ)\n",
    "DE=DE.append(NY)\n",
    "DE=DE.append(PA)\n",
    "EastCoast=DE\n",
    "print(EastCoast)\n",
    "AK=grouped_lists[178:196]\n",
    "CA=grouped_lists[539:1513]\n",
    "CA2=grouped_lists[1516:1557]\n",
    "OR=grouped_lists[8580:8762]\n",
    "WA=grouped_lists[196:199]\n",
    "WA2=grouped_lists[11098:11292]\n",
    "CA=CA.append(CA2)\n",
    "WA=WA.append(WA2)\n",
    "AK=AK.append(CA)\n",
    "AK=AK.append(OR)\n",
    "AK=AK.append(WA)\n",
    "WestCoast=AK\n",
    "print(WestCoast)\n",
    "SATscores=\"SAT_AVG_ALL\""
   ]
  },
  {
   "cell_type": "code",
   "execution_count": 3,
   "id": "dca2a0d5",
   "metadata": {},
   "outputs": [
    {
     "name": "stdout",
     "output_type": "stream",
     "text": [
      "<class 'pandas.core.frame.DataFrame'>\n",
      "RangeIndex: 21156 entries, 0 to 21155\n",
      "Data columns (total 5 columns):\n",
      " #   Column       Non-Null Count  Dtype  \n",
      "---  ------       --------------  -----  \n",
      " 0   index        21156 non-null  int64  \n",
      " 1   SAT_AVG_ALL  4313 non-null   float64\n",
      " 2   SATVRMID     3714 non-null   float64\n",
      " 3   SATMTMID     3718 non-null   float64\n",
      " 4   SATWRMID     0 non-null      float64\n",
      "dtypes: float64(4), int64(1)\n",
      "memory usage: 826.5 KB\n"
     ]
    }
   ],
   "source": [
    "grouped_lists.info()"
   ]
  },
  {
   "cell_type": "code",
   "execution_count": 4,
   "id": "92558db2",
   "metadata": {},
   "outputs": [
    {
     "name": "stdout",
     "output_type": "stream",
     "text": [
      "1124.07805907173\n",
      "1223.6923076923076\n",
      "1113.084745762712\n",
      "1105.081081081081\n",
      "1128.5299684542588\n",
      "1138.8932324124178\n"
     ]
    }
   ],
   "source": [
    "DE_avg=DE[SATscores].mean()\n",
    "DC_avg=DC[SATscores].mean()\n",
    "MD_avg=MD[SATscores].mean()\n",
    "NJ_avg=NJ[SATscores].mean()\n",
    "PA_avg=PA[SATscores].mean()\n",
    "print(DE_avg)\n",
    "print(DC_avg)\n",
    "print(MD_avg)\n",
    "print(NJ_avg)\n",
    "print(PA_avg)\n",
    "EastCoast_avg=((DE_avg+DC_avg+MD_avg+NJ_avg+PA_avg)/5)\n",
    "print(EastCoast_avg)"
   ]
  },
  {
   "cell_type": "code",
   "execution_count": 5,
   "id": "209905bc",
   "metadata": {},
   "outputs": [
    {
     "name": "stdout",
     "output_type": "stream",
     "text": [
      "1154.1672240802675\n",
      "1161.873786407767\n",
      "1130.7555555555555\n",
      "1146.3111111111111\n",
      "1148.2769192886753\n"
     ]
    }
   ],
   "source": [
    "AK_avg=AK[SATscores].mean()\n",
    "CA_avg=CA[SATscores].mean()\n",
    "OR_avg=OR[SATscores].mean()\n",
    "WA_avg=WA[SATscores].mean()\n",
    "print(AK_avg)\n",
    "print(CA_avg)\n",
    "print(OR_avg)\n",
    "print(WA_avg)\n",
    "WestCoast_avg=((AK_avg+CA_avg+OR_avg+WA_avg)/4)\n",
    "print(WestCoast_avg)"
   ]
  },
  {
   "cell_type": "code",
   "execution_count": 6,
   "id": "a4a8c279",
   "metadata": {},
   "outputs": [
    {
     "name": "stdout",
     "output_type": "stream",
     "text": [
      "Requirement already satisfied: matplotlib in c:\\users\\15512\\anaconda3\\lib\\site-packages (3.3.4)\n",
      "Requirement already satisfied: pillow>=6.2.0 in c:\\users\\15512\\anaconda3\\lib\\site-packages (from matplotlib) (8.2.0)\n",
      "Requirement already satisfied: cycler>=0.10 in c:\\users\\15512\\anaconda3\\lib\\site-packages (from matplotlib) (0.10.0)\n",
      "Requirement already satisfied: pyparsing!=2.0.4,!=2.1.2,!=2.1.6,>=2.0.3 in c:\\users\\15512\\anaconda3\\lib\\site-packages (from matplotlib) (2.4.7)\n",
      "Requirement already satisfied: kiwisolver>=1.0.1 in c:\\users\\15512\\anaconda3\\lib\\site-packages (from matplotlib) (1.3.1)\n",
      "Requirement already satisfied: numpy>=1.15 in c:\\users\\15512\\anaconda3\\lib\\site-packages (from matplotlib) (1.20.1)\n",
      "Requirement already satisfied: python-dateutil>=2.1 in c:\\users\\15512\\anaconda3\\lib\\site-packages (from matplotlib) (2.8.1)\n",
      "Requirement already satisfied: six in c:\\users\\15512\\anaconda3\\lib\\site-packages (from cycler>=0.10->matplotlib) (1.15.0)\n",
      "Note: you may need to restart the kernel to use updated packages.\n"
     ]
    }
   ],
   "source": [
    "pip install matplotlib"
   ]
  },
  {
   "cell_type": "code",
   "execution_count": 12,
   "id": "21dce0b7",
   "metadata": {},
   "outputs": [
    {
     "name": "stdout",
     "output_type": "stream",
     "text": [
      "  State Abbreviations Average SAT Score\n",
      "0                  DE              1124\n",
      "1                  DC              1124\n",
      "2                  MD              1113\n",
      "3                  NJ              1105\n",
      "4                  PA              1128\n",
      "5          East Coast              1139\n",
      "  State Abbreviations Average SAT Score\n",
      "0                  AK              1154\n",
      "1                  CA              1162\n",
      "2                  OR              1131\n",
      "3                  WA              1146\n",
      "4          West Coast              1148\n"
     ]
    }
   ],
   "source": [
    "dataEC={'State Abbreviations': ['DE','DC','MD','NJ','PA', 'East Coast'], 'Average SAT Score': ['1124','1124','1113','1105','1128','1139']}\n",
    "ECStates=pd.DataFrame(dataEC)\n",
    "print(ECStates)\n",
    "dataWC={'State Abbreviations': ['AK','CA','OR','WA', 'West Coast'], 'Average SAT Score': ['1154','1162','1131','1146','1148']}\n",
    "WCStates=pd.DataFrame(dataWC)\n",
    "print(WCStates)"
   ]
  },
  {
   "cell_type": "code",
   "execution_count": 14,
   "id": "ec22e39f",
   "metadata": {},
   "outputs": [
    {
     "data": {
      "image/png": "[encoded data removed]",
      "text/plain": [
       "<Figure size 432x288 with 1 Axes>"
      ]
     },
     "metadata": {
      "needs_background": "light"
     },
     "output_type": "display_data"
    }
   ],
   "source": [
    "States=['DE','DC','MD','NJ','PA', 'East Coast','AK','CA','OR','WA', 'West Coast']\n",
    "AVG_SAT=['1124','1124','1113','1105','1128','1139','1154','1162','1131','1146','1148']\n",
    "import matplotlib.pyplot as plt\n",
    "plt.bar(States, AVG_SAT)\n",
    "plt.title('Average SAT Scores in Each Coast')\n",
    "plt.xlabel('States')\n",
    "plt.ylabel('Average SAT Scores')\n",
    "plt.show()"
   ]
  }
 ],
 "metadata": {
  "kernelspec": {
   "display_name": "Python 3",
   "language": "python",
   "name": "python3"
  },
  "language_info": {
   "codemirror_mode": {
    "name": "ipython",
    "version": 3
   },
   "file_extension": ".py",
   "mimetype": "text/x-python",
   "name": "python",
   "nbconvert_exporter": "python",
   "pygments_lexer": "ipython3",
   "version": "3.8.8"
  }
 },
 "nbformat": 4,
 "nbformat_minor": 5
}
